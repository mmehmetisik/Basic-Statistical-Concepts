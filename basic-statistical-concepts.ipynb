{
 "cells": [
  {
   "cell_type": "markdown",
   "id": "d2ebefd5",
   "metadata": {
    "papermill": {
     "duration": 0.014421,
     "end_time": "2023-06-19T13:18:30.270469",
     "exception": false,
     "start_time": "2023-06-19T13:18:30.256048",
     "status": "completed"
    },
    "tags": []
   },
   "source": [
    "# Basic Statistical Concepts"
   ]
  },
  {
   "cell_type": "code",
   "execution_count": 1,
   "id": "46de1e5e",
   "metadata": {
    "execution": {
     "iopub.execute_input": "2023-06-19T13:18:30.300885Z",
     "iopub.status.busy": "2023-06-19T13:18:30.300163Z",
     "iopub.status.idle": "2023-06-19T13:18:32.405254Z",
     "shell.execute_reply": "2023-06-19T13:18:32.404429Z"
    },
    "papermill": {
     "duration": 2.123404,
     "end_time": "2023-06-19T13:18:32.408134",
     "exception": false,
     "start_time": "2023-06-19T13:18:30.284730",
     "status": "completed"
    },
    "tags": []
   },
   "outputs": [],
   "source": [
    "# import Required Libraries\n",
    "\n",
    "import itertools\n",
    "import numpy as np\n",
    "import pandas as pd\n",
    "import matplotlib.pyplot as plt\n",
    "import seaborn as sns\n",
    "import statsmodels.stats.api as sms\n",
    "from scipy.stats import ttest_1samp, shapiro, levene, ttest_ind, mannwhitneyu,pearsonr, spearmanr, kendalltau, f_oneway, kruskal\n",
    "from statsmodels.stats.proportion import proportions_ztest"
   ]
  },
  {
   "cell_type": "code",
   "execution_count": 2,
   "id": "3198b4ba",
   "metadata": {
    "execution": {
     "iopub.execute_input": "2023-06-19T13:18:32.437649Z",
     "iopub.status.busy": "2023-06-19T13:18:32.437230Z",
     "iopub.status.idle": "2023-06-19T13:18:32.444716Z",
     "shell.execute_reply": "2023-06-19T13:18:32.443648Z"
    },
    "papermill": {
     "duration": 0.025241,
     "end_time": "2023-06-19T13:18:32.447230",
     "exception": false,
     "start_time": "2023-06-19T13:18:32.421989",
     "status": "completed"
    },
    "tags": []
   },
   "outputs": [],
   "source": [
    "# Adjusting Row Column Settings\n",
    "\n",
    "pd.set_option('display.max_columns', None)\n",
    "pd.set_option('display.max_rows', 10)\n",
    "pd.set_option('display.float_format', lambda x: '%.5f' % x)"
   ]
  },
  {
   "cell_type": "markdown",
   "id": "844200da",
   "metadata": {
    "papermill": {
     "duration": 0.013684,
     "end_time": "2023-06-19T13:18:32.474860",
     "exception": false,
     "start_time": "2023-06-19T13:18:32.461176",
     "status": "completed"
    },
    "tags": []
   },
   "source": [
    "# Sampling\n",
    "\n",
    "- ***Without a grounding in Statictics, a Data Scientist is a Data Lab Assistant***\n",
    "\n",
    "- **Sampling:** Among a main group, those who are considered to carry (represent) the characteristics of this main group well is a subset. It is representative of the main group (mass).\n",
    "\n",
    "- ***The Future of AI Will Be About Less Data, Not More***"
   ]
  },
  {
   "cell_type": "code",
   "execution_count": 3,
   "id": "ac7e4068",
   "metadata": {
    "execution": {
     "iopub.execute_input": "2023-06-19T13:18:32.504567Z",
     "iopub.status.busy": "2023-06-19T13:18:32.504116Z",
     "iopub.status.idle": "2023-06-19T13:18:32.512122Z",
     "shell.execute_reply": "2023-06-19T13:18:32.510834Z"
    },
    "papermill": {
     "duration": 0.025955,
     "end_time": "2023-06-19T13:18:32.514811",
     "exception": false,
     "start_time": "2023-06-19T13:18:32.488856",
     "status": "completed"
    },
    "tags": []
   },
   "outputs": [],
   "source": [
    "population = np.random.randint(0, 80, 10000)"
   ]
  },
  {
   "cell_type": "code",
   "execution_count": 4,
   "id": "c09215a4",
   "metadata": {
    "execution": {
     "iopub.execute_input": "2023-06-19T13:18:32.546840Z",
     "iopub.status.busy": "2023-06-19T13:18:32.546391Z",
     "iopub.status.idle": "2023-06-19T13:18:32.556243Z",
     "shell.execute_reply": "2023-06-19T13:18:32.554955Z"
    },
    "papermill": {
     "duration": 0.028444,
     "end_time": "2023-06-19T13:18:32.558684",
     "exception": false,
     "start_time": "2023-06-19T13:18:32.530240",
     "status": "completed"
    },
    "tags": []
   },
   "outputs": [
    {
     "data": {
      "text/plain": [
       "array([36, 75, 59, ..., 56,  1, 31])"
      ]
     },
     "execution_count": 4,
     "metadata": {},
     "output_type": "execute_result"
    }
   ],
   "source": [
    "population"
   ]
  },
  {
   "cell_type": "code",
   "execution_count": 5,
   "id": "c81c8ded",
   "metadata": {
    "execution": {
     "iopub.execute_input": "2023-06-19T13:18:32.590298Z",
     "iopub.status.busy": "2023-06-19T13:18:32.589360Z",
     "iopub.status.idle": "2023-06-19T13:18:32.596022Z",
     "shell.execute_reply": "2023-06-19T13:18:32.595199Z"
    },
    "papermill": {
     "duration": 0.024348,
     "end_time": "2023-06-19T13:18:32.598215",
     "exception": false,
     "start_time": "2023-06-19T13:18:32.573867",
     "status": "completed"
    },
    "tags": []
   },
   "outputs": [
    {
     "data": {
      "text/plain": [
       "39.189"
      ]
     },
     "execution_count": 5,
     "metadata": {},
     "output_type": "execute_result"
    }
   ],
   "source": [
    "population.mean()"
   ]
  },
  {
   "cell_type": "code",
   "execution_count": 6,
   "id": "82ed3809",
   "metadata": {
    "execution": {
     "iopub.execute_input": "2023-06-19T13:18:32.629702Z",
     "iopub.status.busy": "2023-06-19T13:18:32.628721Z",
     "iopub.status.idle": "2023-06-19T13:18:32.633638Z",
     "shell.execute_reply": "2023-06-19T13:18:32.632770Z"
    },
    "papermill": {
     "duration": 0.023439,
     "end_time": "2023-06-19T13:18:32.635975",
     "exception": false,
     "start_time": "2023-06-19T13:18:32.612536",
     "status": "completed"
    },
    "tags": []
   },
   "outputs": [],
   "source": [
    "np.random.seed(115)"
   ]
  },
  {
   "cell_type": "code",
   "execution_count": 7,
   "id": "bcdff571",
   "metadata": {
    "execution": {
     "iopub.execute_input": "2023-06-19T13:18:32.667398Z",
     "iopub.status.busy": "2023-06-19T13:18:32.666788Z",
     "iopub.status.idle": "2023-06-19T13:18:32.673314Z",
     "shell.execute_reply": "2023-06-19T13:18:32.672219Z"
    },
    "papermill": {
     "duration": 0.025381,
     "end_time": "2023-06-19T13:18:32.675728",
     "exception": false,
     "start_time": "2023-06-19T13:18:32.650347",
     "status": "completed"
    },
    "tags": []
   },
   "outputs": [],
   "source": [
    "sampling = np.random.choice(a=population, size=100)"
   ]
  },
  {
   "cell_type": "code",
   "execution_count": 8,
   "id": "848c3a2a",
   "metadata": {
    "execution": {
     "iopub.execute_input": "2023-06-19T13:18:32.706709Z",
     "iopub.status.busy": "2023-06-19T13:18:32.705784Z",
     "iopub.status.idle": "2023-06-19T13:18:32.713265Z",
     "shell.execute_reply": "2023-06-19T13:18:32.712166Z"
    },
    "papermill": {
     "duration": 0.025576,
     "end_time": "2023-06-19T13:18:32.715718",
     "exception": false,
     "start_time": "2023-06-19T13:18:32.690142",
     "status": "completed"
    },
    "tags": []
   },
   "outputs": [
    {
     "data": {
      "text/plain": [
       "array([42, 16,  1, 37, 19, 47, 42, 33, 73, 61, 55, 34, 72, 15, 57, 26, 78,\n",
       "       47, 10, 57, 47,  0, 23, 46,  1, 72, 63,  9, 34, 11, 22,  5, 29, 25,\n",
       "       22, 12, 71, 19, 34, 16, 27, 75, 38, 12,  3, 64, 44, 56, 14, 49, 35,\n",
       "       77, 20, 10, 56, 72,  6, 15, 52, 56, 22, 26, 11, 62, 48,  7,  6, 21,\n",
       "       74, 74, 10, 15, 70, 15, 55, 63,  6, 38, 51, 44, 68, 59,  2, 58, 26,\n",
       "       18,  5, 69,  7,  9, 28, 43, 54, 58, 70, 51, 12, 73,  5, 70])"
      ]
     },
     "execution_count": 8,
     "metadata": {},
     "output_type": "execute_result"
    }
   ],
   "source": [
    "sampling"
   ]
  },
  {
   "cell_type": "code",
   "execution_count": 9,
   "id": "68e3006d",
   "metadata": {
    "execution": {
     "iopub.execute_input": "2023-06-19T13:18:32.746345Z",
     "iopub.status.busy": "2023-06-19T13:18:32.745955Z",
     "iopub.status.idle": "2023-06-19T13:18:32.753554Z",
     "shell.execute_reply": "2023-06-19T13:18:32.752246Z"
    },
    "papermill": {
     "duration": 0.025673,
     "end_time": "2023-06-19T13:18:32.755851",
     "exception": false,
     "start_time": "2023-06-19T13:18:32.730178",
     "status": "completed"
    },
    "tags": []
   },
   "outputs": [
    {
     "data": {
      "text/plain": [
       "36.67"
      ]
     },
     "execution_count": 9,
     "metadata": {},
     "output_type": "execute_result"
    }
   ],
   "source": [
    "sampling.mean()"
   ]
  },
  {
   "cell_type": "code",
   "execution_count": 10,
   "id": "b096de96",
   "metadata": {
    "execution": {
     "iopub.execute_input": "2023-06-19T13:18:32.787963Z",
     "iopub.status.busy": "2023-06-19T13:18:32.787570Z",
     "iopub.status.idle": "2023-06-19T13:18:32.792195Z",
     "shell.execute_reply": "2023-06-19T13:18:32.791188Z"
    },
    "papermill": {
     "duration": 0.023394,
     "end_time": "2023-06-19T13:18:32.794521",
     "exception": false,
     "start_time": "2023-06-19T13:18:32.771127",
     "status": "completed"
    },
    "tags": []
   },
   "outputs": [],
   "source": [
    "np.random.seed(10)"
   ]
  },
  {
   "cell_type": "code",
   "execution_count": 11,
   "id": "d4219f9a",
   "metadata": {
    "execution": {
     "iopub.execute_input": "2023-06-19T13:18:32.825729Z",
     "iopub.status.busy": "2023-06-19T13:18:32.825234Z",
     "iopub.status.idle": "2023-06-19T13:18:32.834519Z",
     "shell.execute_reply": "2023-06-19T13:18:32.833349Z"
    },
    "papermill": {
     "duration": 0.027717,
     "end_time": "2023-06-19T13:18:32.836861",
     "exception": false,
     "start_time": "2023-06-19T13:18:32.809144",
     "status": "completed"
    },
    "tags": []
   },
   "outputs": [],
   "source": [
    "sampling1 = np.random.choice(a=population, size=100)\n",
    "sampling2 = np.random.choice(a=population, size=100)\n",
    "sampling3 = np.random.choice(a=population, size=100)\n",
    "sampling4 = np.random.choice(a=population, size=100)\n",
    "sampling5 = np.random.choice(a=population, size=100)\n",
    "sampling6 = np.random.choice(a=population, size=100)\n",
    "sampling7 = np.random.choice(a=population, size=100)\n",
    "sampling8 = np.random.choice(a=population, size=100)\n",
    "sampling9 = np.random.choice(a=population, size=100)\n",
    "sampling10 = np.random.choice(a=population, size=100)"
   ]
  },
  {
   "cell_type": "code",
   "execution_count": 12,
   "id": "650a7e75",
   "metadata": {
    "execution": {
     "iopub.execute_input": "2023-06-19T13:18:32.868016Z",
     "iopub.status.busy": "2023-06-19T13:18:32.867570Z",
     "iopub.status.idle": "2023-06-19T13:18:32.876642Z",
     "shell.execute_reply": "2023-06-19T13:18:32.875556Z"
    },
    "papermill": {
     "duration": 0.027622,
     "end_time": "2023-06-19T13:18:32.879134",
     "exception": false,
     "start_time": "2023-06-19T13:18:32.851512",
     "status": "completed"
    },
    "tags": []
   },
   "outputs": [
    {
     "data": {
      "text/plain": [
       "38.927"
      ]
     },
     "execution_count": 12,
     "metadata": {},
     "output_type": "execute_result"
    }
   ],
   "source": [
    "(sampling1.mean() + sampling2.mean() + sampling3.mean() + sampling4.mean() + sampling5.mean()\n",
    " + sampling6.mean() + sampling7.mean() + sampling8.mean() + sampling9.mean() + sampling10.mean()) / 10"
   ]
  },
  {
   "cell_type": "markdown",
   "id": "bddd623c",
   "metadata": {
    "papermill": {
     "duration": 0.014916,
     "end_time": "2023-06-19T13:18:32.908838",
     "exception": false,
     "start_time": "2023-06-19T13:18:32.893922",
     "status": "completed"
    },
    "tags": []
   },
   "source": [
    "# Descriptive Statistics"
   ]
  },
  {
   "cell_type": "code",
   "execution_count": 13,
   "id": "1c700703",
   "metadata": {
    "execution": {
     "iopub.execute_input": "2023-06-19T13:18:32.940313Z",
     "iopub.status.busy": "2023-06-19T13:18:32.939878Z",
     "iopub.status.idle": "2023-06-19T13:18:33.691403Z",
     "shell.execute_reply": "2023-06-19T13:18:33.690571Z"
    },
    "papermill": {
     "duration": 0.770336,
     "end_time": "2023-06-19T13:18:33.693851",
     "exception": false,
     "start_time": "2023-06-19T13:18:32.923515",
     "status": "completed"
    },
    "tags": []
   },
   "outputs": [],
   "source": [
    "df = sns.load_dataset(\"tips\")"
   ]
  },
  {
   "cell_type": "code",
   "execution_count": 14,
   "id": "8837ace9",
   "metadata": {
    "execution": {
     "iopub.execute_input": "2023-06-19T13:18:33.725222Z",
     "iopub.status.busy": "2023-06-19T13:18:33.724510Z",
     "iopub.status.idle": "2023-06-19T13:18:33.751826Z",
     "shell.execute_reply": "2023-06-19T13:18:33.751005Z"
    },
    "papermill": {
     "duration": 0.04575,
     "end_time": "2023-06-19T13:18:33.754250",
     "exception": false,
     "start_time": "2023-06-19T13:18:33.708500",
     "status": "completed"
    },
    "tags": []
   },
   "outputs": [
    {
     "data": {
      "text/html": [
       "<div>\n",
       "<style scoped>\n",
       "    .dataframe tbody tr th:only-of-type {\n",
       "        vertical-align: middle;\n",
       "    }\n",
       "\n",
       "    .dataframe tbody tr th {\n",
       "        vertical-align: top;\n",
       "    }\n",
       "\n",
       "    .dataframe thead th {\n",
       "        text-align: right;\n",
       "    }\n",
       "</style>\n",
       "<table border=\"1\" class=\"dataframe\">\n",
       "  <thead>\n",
       "    <tr style=\"text-align: right;\">\n",
       "      <th></th>\n",
       "      <th>total_bill</th>\n",
       "      <th>tip</th>\n",
       "      <th>sex</th>\n",
       "      <th>smoker</th>\n",
       "      <th>day</th>\n",
       "      <th>time</th>\n",
       "      <th>size</th>\n",
       "    </tr>\n",
       "  </thead>\n",
       "  <tbody>\n",
       "    <tr>\n",
       "      <th>0</th>\n",
       "      <td>16.99000</td>\n",
       "      <td>1.01000</td>\n",
       "      <td>Female</td>\n",
       "      <td>No</td>\n",
       "      <td>Sun</td>\n",
       "      <td>Dinner</td>\n",
       "      <td>2</td>\n",
       "    </tr>\n",
       "    <tr>\n",
       "      <th>1</th>\n",
       "      <td>10.34000</td>\n",
       "      <td>1.66000</td>\n",
       "      <td>Male</td>\n",
       "      <td>No</td>\n",
       "      <td>Sun</td>\n",
       "      <td>Dinner</td>\n",
       "      <td>3</td>\n",
       "    </tr>\n",
       "    <tr>\n",
       "      <th>2</th>\n",
       "      <td>21.01000</td>\n",
       "      <td>3.50000</td>\n",
       "      <td>Male</td>\n",
       "      <td>No</td>\n",
       "      <td>Sun</td>\n",
       "      <td>Dinner</td>\n",
       "      <td>3</td>\n",
       "    </tr>\n",
       "    <tr>\n",
       "      <th>3</th>\n",
       "      <td>23.68000</td>\n",
       "      <td>3.31000</td>\n",
       "      <td>Male</td>\n",
       "      <td>No</td>\n",
       "      <td>Sun</td>\n",
       "      <td>Dinner</td>\n",
       "      <td>2</td>\n",
       "    </tr>\n",
       "    <tr>\n",
       "      <th>4</th>\n",
       "      <td>24.59000</td>\n",
       "      <td>3.61000</td>\n",
       "      <td>Female</td>\n",
       "      <td>No</td>\n",
       "      <td>Sun</td>\n",
       "      <td>Dinner</td>\n",
       "      <td>4</td>\n",
       "    </tr>\n",
       "  </tbody>\n",
       "</table>\n",
       "</div>"
      ],
      "text/plain": [
       "   total_bill     tip     sex smoker  day    time  size\n",
       "0    16.99000 1.01000  Female     No  Sun  Dinner     2\n",
       "1    10.34000 1.66000    Male     No  Sun  Dinner     3\n",
       "2    21.01000 3.50000    Male     No  Sun  Dinner     3\n",
       "3    23.68000 3.31000    Male     No  Sun  Dinner     2\n",
       "4    24.59000 3.61000  Female     No  Sun  Dinner     4"
      ]
     },
     "execution_count": 14,
     "metadata": {},
     "output_type": "execute_result"
    }
   ],
   "source": [
    "df.head()"
   ]
  },
  {
   "cell_type": "code",
   "execution_count": 15,
   "id": "48e90683",
   "metadata": {
    "execution": {
     "iopub.execute_input": "2023-06-19T13:18:33.787596Z",
     "iopub.status.busy": "2023-06-19T13:18:33.786865Z",
     "iopub.status.idle": "2023-06-19T13:18:33.812055Z",
     "shell.execute_reply": "2023-06-19T13:18:33.811258Z"
    },
    "papermill": {
     "duration": 0.044909,
     "end_time": "2023-06-19T13:18:33.814345",
     "exception": false,
     "start_time": "2023-06-19T13:18:33.769436",
     "status": "completed"
    },
    "tags": []
   },
   "outputs": [
    {
     "data": {
      "text/html": [
       "<div>\n",
       "<style scoped>\n",
       "    .dataframe tbody tr th:only-of-type {\n",
       "        vertical-align: middle;\n",
       "    }\n",
       "\n",
       "    .dataframe tbody tr th {\n",
       "        vertical-align: top;\n",
       "    }\n",
       "\n",
       "    .dataframe thead th {\n",
       "        text-align: right;\n",
       "    }\n",
       "</style>\n",
       "<table border=\"1\" class=\"dataframe\">\n",
       "  <thead>\n",
       "    <tr style=\"text-align: right;\">\n",
       "      <th></th>\n",
       "      <th>count</th>\n",
       "      <th>mean</th>\n",
       "      <th>std</th>\n",
       "      <th>min</th>\n",
       "      <th>25%</th>\n",
       "      <th>50%</th>\n",
       "      <th>75%</th>\n",
       "      <th>max</th>\n",
       "    </tr>\n",
       "  </thead>\n",
       "  <tbody>\n",
       "    <tr>\n",
       "      <th>total_bill</th>\n",
       "      <td>244.00000</td>\n",
       "      <td>19.78594</td>\n",
       "      <td>8.90241</td>\n",
       "      <td>3.07000</td>\n",
       "      <td>13.34750</td>\n",
       "      <td>17.79500</td>\n",
       "      <td>24.12750</td>\n",
       "      <td>50.81000</td>\n",
       "    </tr>\n",
       "    <tr>\n",
       "      <th>tip</th>\n",
       "      <td>244.00000</td>\n",
       "      <td>2.99828</td>\n",
       "      <td>1.38364</td>\n",
       "      <td>1.00000</td>\n",
       "      <td>2.00000</td>\n",
       "      <td>2.90000</td>\n",
       "      <td>3.56250</td>\n",
       "      <td>10.00000</td>\n",
       "    </tr>\n",
       "    <tr>\n",
       "      <th>size</th>\n",
       "      <td>244.00000</td>\n",
       "      <td>2.56967</td>\n",
       "      <td>0.95110</td>\n",
       "      <td>1.00000</td>\n",
       "      <td>2.00000</td>\n",
       "      <td>2.00000</td>\n",
       "      <td>3.00000</td>\n",
       "      <td>6.00000</td>\n",
       "    </tr>\n",
       "  </tbody>\n",
       "</table>\n",
       "</div>"
      ],
      "text/plain": [
       "               count     mean     std     min      25%      50%      75%  \\\n",
       "total_bill 244.00000 19.78594 8.90241 3.07000 13.34750 17.79500 24.12750   \n",
       "tip        244.00000  2.99828 1.38364 1.00000  2.00000  2.90000  3.56250   \n",
       "size       244.00000  2.56967 0.95110 1.00000  2.00000  2.00000  3.00000   \n",
       "\n",
       "                max  \n",
       "total_bill 50.81000  \n",
       "tip        10.00000  \n",
       "size        6.00000  "
      ]
     },
     "execution_count": 15,
     "metadata": {},
     "output_type": "execute_result"
    }
   ],
   "source": [
    "df.describe().T"
   ]
  },
  {
   "cell_type": "markdown",
   "id": "19e40ad5",
   "metadata": {
    "papermill": {
     "duration": 0.014734,
     "end_time": "2023-06-19T13:18:33.844366",
     "exception": false,
     "start_time": "2023-06-19T13:18:33.829632",
     "status": "completed"
    },
    "tags": []
   },
   "source": [
    "# Confidence Intervals\n",
    "- Finding a range of two numbers that can cover the estimated value (statistic) of the main population parameter."
   ]
  },
  {
   "cell_type": "code",
   "execution_count": 16,
   "id": "d063f881",
   "metadata": {
    "execution": {
     "iopub.execute_input": "2023-06-19T13:18:33.877026Z",
     "iopub.status.busy": "2023-06-19T13:18:33.876308Z",
     "iopub.status.idle": "2023-06-19T13:18:33.880682Z",
     "shell.execute_reply": "2023-06-19T13:18:33.879624Z"
    },
    "papermill": {
     "duration": 0.023664,
     "end_time": "2023-06-19T13:18:33.883323",
     "exception": false,
     "start_time": "2023-06-19T13:18:33.859659",
     "status": "completed"
    },
    "tags": []
   },
   "outputs": [],
   "source": [
    "# For example:\n",
    "# What is the confidence interval of the average time spent on a website?"
   ]
  },
  {
   "cell_type": "code",
   "execution_count": 17,
   "id": "d406eb63",
   "metadata": {
    "execution": {
     "iopub.execute_input": "2023-06-19T13:18:33.915864Z",
     "iopub.status.busy": "2023-06-19T13:18:33.915171Z",
     "iopub.status.idle": "2023-06-19T13:18:33.919693Z",
     "shell.execute_reply": "2023-06-19T13:18:33.918741Z"
    },
    "papermill": {
     "duration": 0.024001,
     "end_time": "2023-06-19T13:18:33.922443",
     "exception": false,
     "start_time": "2023-06-19T13:18:33.898442",
     "status": "completed"
    },
    "tags": []
   },
   "outputs": [],
   "source": [
    "# average = 180 seconds\n",
    "# Standard deviation = 40 seconds\n",
    "# Confidence interval: 172 to 188 with 95% confidence."
   ]
  },
  {
   "cell_type": "code",
   "execution_count": 18,
   "id": "87124340",
   "metadata": {
    "execution": {
     "iopub.execute_input": "2023-06-19T13:18:33.955318Z",
     "iopub.status.busy": "2023-06-19T13:18:33.954696Z",
     "iopub.status.idle": "2023-06-19T13:18:33.958952Z",
     "shell.execute_reply": "2023-06-19T13:18:33.957584Z"
    },
    "papermill": {
     "duration": 0.023187,
     "end_time": "2023-06-19T13:18:33.961192",
     "exception": false,
     "start_time": "2023-06-19T13:18:33.938005",
     "status": "completed"
    },
    "tags": []
   },
   "outputs": [],
   "source": [
    "# Let's Calculate"
   ]
  },
  {
   "cell_type": "code",
   "execution_count": 19,
   "id": "09ed4323",
   "metadata": {
    "execution": {
     "iopub.execute_input": "2023-06-19T13:18:33.993606Z",
     "iopub.status.busy": "2023-06-19T13:18:33.993138Z",
     "iopub.status.idle": "2023-06-19T13:18:33.998227Z",
     "shell.execute_reply": "2023-06-19T13:18:33.997030Z"
    },
    "papermill": {
     "duration": 0.024777,
     "end_time": "2023-06-19T13:18:34.001138",
     "exception": false,
     "start_time": "2023-06-19T13:18:33.976361",
     "status": "completed"
    },
    "tags": []
   },
   "outputs": [],
   "source": [
    "# Step 1: Find n, mean and standard deviation.\n",
    "\n",
    "n = 100\n",
    "average = 180\n",
    "standard_deviation = 40"
   ]
  },
  {
   "cell_type": "code",
   "execution_count": 20,
   "id": "e1bc4b0d",
   "metadata": {
    "execution": {
     "iopub.execute_input": "2023-06-19T13:18:34.034112Z",
     "iopub.status.busy": "2023-06-19T13:18:34.033454Z",
     "iopub.status.idle": "2023-06-19T13:18:34.037960Z",
     "shell.execute_reply": "2023-06-19T13:18:34.037140Z"
    },
    "papermill": {
     "duration": 0.023608,
     "end_time": "2023-06-19T13:18:34.040313",
     "exception": false,
     "start_time": "2023-06-19T13:18:34.016705",
     "status": "completed"
    },
    "tags": []
   },
   "outputs": [],
   "source": [
    "# Step 2: Decide on the Confidence Interval: 95% or 99%?\n",
    "\n",
    "# Calculate table value Z (1.96 - 2.57)\n",
    "# 95% is generally accepted.\n",
    "# The Z table value was also chosen as 1.96."
   ]
  },
  {
   "cell_type": "code",
   "execution_count": 21,
   "id": "6cdf7c34",
   "metadata": {
    "execution": {
     "iopub.execute_input": "2023-06-19T13:18:34.072655Z",
     "iopub.status.busy": "2023-06-19T13:18:34.072256Z",
     "iopub.status.idle": "2023-06-19T13:18:34.076968Z",
     "shell.execute_reply": "2023-06-19T13:18:34.075757Z"
    },
    "papermill": {
     "duration": 0.023979,
     "end_time": "2023-06-19T13:18:34.079631",
     "exception": false,
     "start_time": "2023-06-19T13:18:34.055652",
     "status": "completed"
    },
    "tags": []
   },
   "outputs": [],
   "source": [
    "# Step 3: Calculate the confidence interval using the values above"
   ]
  },
  {
   "attachments": {
    "5921dbe1-73b0-4817-ab74-77fc46699f4e.jpg": {
     "image/jpeg": "[encoded data removed]"
    }
   },
   "cell_type": "markdown",
   "id": "6d2e3002",
   "metadata": {
    "papermill": {
     "duration": 0.014842,
     "end_time": "2023-06-19T13:18:34.109787",
     "exception": false,
     "start_time": "2023-06-19T13:18:34.094945",
     "status": "completed"
    },
    "tags": []
   },
   "source": [
    "![ab.jpg](attachment:5921dbe1-73b0-4817-ab74-77fc46699f4e.jpg)![](http://)"
   ]
  },
  {
   "cell_type": "code",
   "execution_count": 22,
   "id": "496d0830",
   "metadata": {
    "execution": {
     "iopub.execute_input": "2023-06-19T13:18:34.141832Z",
     "iopub.status.busy": "2023-06-19T13:18:34.141392Z",
     "iopub.status.idle": "2023-06-19T13:18:34.146567Z",
     "shell.execute_reply": "2023-06-19T13:18:34.145495Z"
    },
    "papermill": {
     "duration": 0.024116,
     "end_time": "2023-06-19T13:18:34.148999",
     "exception": false,
     "start_time": "2023-06-19T13:18:34.124883",
     "status": "completed"
    },
    "tags": []
   },
   "outputs": [],
   "source": [
    "# The result\n",
    "\n",
    "# The confidence interval is 180 +- 7.84. That is between 172 and 188."
   ]
  },
  {
   "cell_type": "markdown",
   "id": "adc8bb33",
   "metadata": {
    "papermill": {
     "duration": 0.015273,
     "end_time": "2023-06-19T13:18:34.180346",
     "exception": false,
     "start_time": "2023-06-19T13:18:34.165073",
     "status": "completed"
    },
    "tags": []
   },
   "source": [
    "# Let's Calculate Confidence Intervals for Numerical Variables in Tips Data Set."
   ]
  },
  {
   "cell_type": "code",
   "execution_count": 23,
   "id": "3ad34bb8",
   "metadata": {
    "execution": {
     "iopub.execute_input": "2023-06-19T13:18:34.212542Z",
     "iopub.status.busy": "2023-06-19T13:18:34.212103Z",
     "iopub.status.idle": "2023-06-19T13:18:34.225157Z",
     "shell.execute_reply": "2023-06-19T13:18:34.224245Z"
    },
    "papermill": {
     "duration": 0.032126,
     "end_time": "2023-06-19T13:18:34.227727",
     "exception": false,
     "start_time": "2023-06-19T13:18:34.195601",
     "status": "completed"
    },
    "tags": []
   },
   "outputs": [],
   "source": [
    "df_2 = sns.load_dataset(\"tips\")"
   ]
  },
  {
   "cell_type": "code",
   "execution_count": 24,
   "id": "07e61198",
   "metadata": {
    "execution": {
     "iopub.execute_input": "2023-06-19T13:18:34.261364Z",
     "iopub.status.busy": "2023-06-19T13:18:34.260238Z",
     "iopub.status.idle": "2023-06-19T13:18:34.275454Z",
     "shell.execute_reply": "2023-06-19T13:18:34.274251Z"
    },
    "papermill": {
     "duration": 0.035085,
     "end_time": "2023-06-19T13:18:34.277961",
     "exception": false,
     "start_time": "2023-06-19T13:18:34.242876",
     "status": "completed"
    },
    "tags": []
   },
   "outputs": [
    {
     "data": {
      "text/html": [
       "<div>\n",
       "<style scoped>\n",
       "    .dataframe tbody tr th:only-of-type {\n",
       "        vertical-align: middle;\n",
       "    }\n",
       "\n",
       "    .dataframe tbody tr th {\n",
       "        vertical-align: top;\n",
       "    }\n",
       "\n",
       "    .dataframe thead th {\n",
       "        text-align: right;\n",
       "    }\n",
       "</style>\n",
       "<table border=\"1\" class=\"dataframe\">\n",
       "  <thead>\n",
       "    <tr style=\"text-align: right;\">\n",
       "      <th></th>\n",
       "      <th>total_bill</th>\n",
       "      <th>tip</th>\n",
       "      <th>sex</th>\n",
       "      <th>smoker</th>\n",
       "      <th>day</th>\n",
       "      <th>time</th>\n",
       "      <th>size</th>\n",
       "    </tr>\n",
       "  </thead>\n",
       "  <tbody>\n",
       "    <tr>\n",
       "      <th>0</th>\n",
       "      <td>16.99000</td>\n",
       "      <td>1.01000</td>\n",
       "      <td>Female</td>\n",
       "      <td>No</td>\n",
       "      <td>Sun</td>\n",
       "      <td>Dinner</td>\n",
       "      <td>2</td>\n",
       "    </tr>\n",
       "    <tr>\n",
       "      <th>1</th>\n",
       "      <td>10.34000</td>\n",
       "      <td>1.66000</td>\n",
       "      <td>Male</td>\n",
       "      <td>No</td>\n",
       "      <td>Sun</td>\n",
       "      <td>Dinner</td>\n",
       "      <td>3</td>\n",
       "    </tr>\n",
       "    <tr>\n",
       "      <th>2</th>\n",
       "      <td>21.01000</td>\n",
       "      <td>3.50000</td>\n",
       "      <td>Male</td>\n",
       "      <td>No</td>\n",
       "      <td>Sun</td>\n",
       "      <td>Dinner</td>\n",
       "      <td>3</td>\n",
       "    </tr>\n",
       "    <tr>\n",
       "      <th>3</th>\n",
       "      <td>23.68000</td>\n",
       "      <td>3.31000</td>\n",
       "      <td>Male</td>\n",
       "      <td>No</td>\n",
       "      <td>Sun</td>\n",
       "      <td>Dinner</td>\n",
       "      <td>2</td>\n",
       "    </tr>\n",
       "    <tr>\n",
       "      <th>4</th>\n",
       "      <td>24.59000</td>\n",
       "      <td>3.61000</td>\n",
       "      <td>Female</td>\n",
       "      <td>No</td>\n",
       "      <td>Sun</td>\n",
       "      <td>Dinner</td>\n",
       "      <td>4</td>\n",
       "    </tr>\n",
       "  </tbody>\n",
       "</table>\n",
       "</div>"
      ],
      "text/plain": [
       "   total_bill     tip     sex smoker  day    time  size\n",
       "0    16.99000 1.01000  Female     No  Sun  Dinner     2\n",
       "1    10.34000 1.66000    Male     No  Sun  Dinner     3\n",
       "2    21.01000 3.50000    Male     No  Sun  Dinner     3\n",
       "3    23.68000 3.31000    Male     No  Sun  Dinner     2\n",
       "4    24.59000 3.61000  Female     No  Sun  Dinner     4"
      ]
     },
     "execution_count": 24,
     "metadata": {},
     "output_type": "execute_result"
    }
   ],
   "source": [
    "df_2.head()"
   ]
  },
  {
   "cell_type": "code",
   "execution_count": 25,
   "id": "26f2176e",
   "metadata": {
    "execution": {
     "iopub.execute_input": "2023-06-19T13:18:34.310628Z",
     "iopub.status.busy": "2023-06-19T13:18:34.310217Z",
     "iopub.status.idle": "2023-06-19T13:18:34.333669Z",
     "shell.execute_reply": "2023-06-19T13:18:34.332322Z"
    },
    "papermill": {
     "duration": 0.042925,
     "end_time": "2023-06-19T13:18:34.336252",
     "exception": false,
     "start_time": "2023-06-19T13:18:34.293327",
     "status": "completed"
    },
    "tags": []
   },
   "outputs": [
    {
     "data": {
      "text/html": [
       "<div>\n",
       "<style scoped>\n",
       "    .dataframe tbody tr th:only-of-type {\n",
       "        vertical-align: middle;\n",
       "    }\n",
       "\n",
       "    .dataframe tbody tr th {\n",
       "        vertical-align: top;\n",
       "    }\n",
       "\n",
       "    .dataframe thead th {\n",
       "        text-align: right;\n",
       "    }\n",
       "</style>\n",
       "<table border=\"1\" class=\"dataframe\">\n",
       "  <thead>\n",
       "    <tr style=\"text-align: right;\">\n",
       "      <th></th>\n",
       "      <th>count</th>\n",
       "      <th>mean</th>\n",
       "      <th>std</th>\n",
       "      <th>min</th>\n",
       "      <th>25%</th>\n",
       "      <th>50%</th>\n",
       "      <th>75%</th>\n",
       "      <th>max</th>\n",
       "    </tr>\n",
       "  </thead>\n",
       "  <tbody>\n",
       "    <tr>\n",
       "      <th>total_bill</th>\n",
       "      <td>244.00000</td>\n",
       "      <td>19.78594</td>\n",
       "      <td>8.90241</td>\n",
       "      <td>3.07000</td>\n",
       "      <td>13.34750</td>\n",
       "      <td>17.79500</td>\n",
       "      <td>24.12750</td>\n",
       "      <td>50.81000</td>\n",
       "    </tr>\n",
       "    <tr>\n",
       "      <th>tip</th>\n",
       "      <td>244.00000</td>\n",
       "      <td>2.99828</td>\n",
       "      <td>1.38364</td>\n",
       "      <td>1.00000</td>\n",
       "      <td>2.00000</td>\n",
       "      <td>2.90000</td>\n",
       "      <td>3.56250</td>\n",
       "      <td>10.00000</td>\n",
       "    </tr>\n",
       "    <tr>\n",
       "      <th>size</th>\n",
       "      <td>244.00000</td>\n",
       "      <td>2.56967</td>\n",
       "      <td>0.95110</td>\n",
       "      <td>1.00000</td>\n",
       "      <td>2.00000</td>\n",
       "      <td>2.00000</td>\n",
       "      <td>3.00000</td>\n",
       "      <td>6.00000</td>\n",
       "    </tr>\n",
       "  </tbody>\n",
       "</table>\n",
       "</div>"
      ],
      "text/plain": [
       "               count     mean     std     min      25%      50%      75%  \\\n",
       "total_bill 244.00000 19.78594 8.90241 3.07000 13.34750 17.79500 24.12750   \n",
       "tip        244.00000  2.99828 1.38364 1.00000  2.00000  2.90000  3.56250   \n",
       "size       244.00000  2.56967 0.95110 1.00000  2.00000  2.00000  3.00000   \n",
       "\n",
       "                max  \n",
       "total_bill 50.81000  \n",
       "tip        10.00000  \n",
       "size        6.00000  "
      ]
     },
     "execution_count": 25,
     "metadata": {},
     "output_type": "execute_result"
    }
   ],
   "source": [
    "df_2.describe().T"
   ]
  },
  {
   "cell_type": "code",
   "execution_count": 26,
   "id": "db5501df",
   "metadata": {
    "execution": {
     "iopub.execute_input": "2023-06-19T13:18:34.369916Z",
     "iopub.status.busy": "2023-06-19T13:18:34.369532Z",
     "iopub.status.idle": "2023-06-19T13:18:34.384322Z",
     "shell.execute_reply": "2023-06-19T13:18:34.383268Z"
    },
    "papermill": {
     "duration": 0.034081,
     "end_time": "2023-06-19T13:18:34.386735",
     "exception": false,
     "start_time": "2023-06-19T13:18:34.352654",
     "status": "completed"
    },
    "tags": []
   },
   "outputs": [
    {
     "data": {
      "text/html": [
       "<div>\n",
       "<style scoped>\n",
       "    .dataframe tbody tr th:only-of-type {\n",
       "        vertical-align: middle;\n",
       "    }\n",
       "\n",
       "    .dataframe tbody tr th {\n",
       "        vertical-align: top;\n",
       "    }\n",
       "\n",
       "    .dataframe thead th {\n",
       "        text-align: right;\n",
       "    }\n",
       "</style>\n",
       "<table border=\"1\" class=\"dataframe\">\n",
       "  <thead>\n",
       "    <tr style=\"text-align: right;\">\n",
       "      <th></th>\n",
       "      <th>total_bill</th>\n",
       "      <th>tip</th>\n",
       "      <th>sex</th>\n",
       "      <th>smoker</th>\n",
       "      <th>day</th>\n",
       "      <th>time</th>\n",
       "      <th>size</th>\n",
       "    </tr>\n",
       "  </thead>\n",
       "  <tbody>\n",
       "    <tr>\n",
       "      <th>0</th>\n",
       "      <td>16.99000</td>\n",
       "      <td>1.01000</td>\n",
       "      <td>Female</td>\n",
       "      <td>No</td>\n",
       "      <td>Sun</td>\n",
       "      <td>Dinner</td>\n",
       "      <td>2</td>\n",
       "    </tr>\n",
       "    <tr>\n",
       "      <th>1</th>\n",
       "      <td>10.34000</td>\n",
       "      <td>1.66000</td>\n",
       "      <td>Male</td>\n",
       "      <td>No</td>\n",
       "      <td>Sun</td>\n",
       "      <td>Dinner</td>\n",
       "      <td>3</td>\n",
       "    </tr>\n",
       "    <tr>\n",
       "      <th>2</th>\n",
       "      <td>21.01000</td>\n",
       "      <td>3.50000</td>\n",
       "      <td>Male</td>\n",
       "      <td>No</td>\n",
       "      <td>Sun</td>\n",
       "      <td>Dinner</td>\n",
       "      <td>3</td>\n",
       "    </tr>\n",
       "    <tr>\n",
       "      <th>3</th>\n",
       "      <td>23.68000</td>\n",
       "      <td>3.31000</td>\n",
       "      <td>Male</td>\n",
       "      <td>No</td>\n",
       "      <td>Sun</td>\n",
       "      <td>Dinner</td>\n",
       "      <td>2</td>\n",
       "    </tr>\n",
       "    <tr>\n",
       "      <th>4</th>\n",
       "      <td>24.59000</td>\n",
       "      <td>3.61000</td>\n",
       "      <td>Female</td>\n",
       "      <td>No</td>\n",
       "      <td>Sun</td>\n",
       "      <td>Dinner</td>\n",
       "      <td>4</td>\n",
       "    </tr>\n",
       "  </tbody>\n",
       "</table>\n",
       "</div>"
      ],
      "text/plain": [
       "   total_bill     tip     sex smoker  day    time  size\n",
       "0    16.99000 1.01000  Female     No  Sun  Dinner     2\n",
       "1    10.34000 1.66000    Male     No  Sun  Dinner     3\n",
       "2    21.01000 3.50000    Male     No  Sun  Dinner     3\n",
       "3    23.68000 3.31000    Male     No  Sun  Dinner     2\n",
       "4    24.59000 3.61000  Female     No  Sun  Dinner     4"
      ]
     },
     "execution_count": 26,
     "metadata": {},
     "output_type": "execute_result"
    }
   ],
   "source": [
    "df_2.head()"
   ]
  },
  {
   "cell_type": "code",
   "execution_count": 27,
   "id": "bcff3978",
   "metadata": {
    "execution": {
     "iopub.execute_input": "2023-06-19T13:18:34.420140Z",
     "iopub.status.busy": "2023-06-19T13:18:34.419755Z",
     "iopub.status.idle": "2023-06-19T13:18:34.432701Z",
     "shell.execute_reply": "2023-06-19T13:18:34.431648Z"
    },
    "papermill": {
     "duration": 0.032472,
     "end_time": "2023-06-19T13:18:34.435143",
     "exception": false,
     "start_time": "2023-06-19T13:18:34.402671",
     "status": "completed"
    },
    "tags": []
   },
   "outputs": [
    {
     "data": {
      "text/plain": [
       "(18.66333170435847, 20.908553541543164)"
      ]
     },
     "execution_count": 27,
     "metadata": {},
     "output_type": "execute_result"
    }
   ],
   "source": [
    "# The average of the \"total_bill\" variable is statistically significant with 95% confidence between 18.66333170435847 and 20.908553541543164 values. 5% margin of error.\n",
    "\n",
    "sms.DescrStatsW(df_2[\"total_bill\"]).tconfint_mean()"
   ]
  },
  {
   "cell_type": "code",
   "execution_count": 28,
   "id": "228ca84a",
   "metadata": {
    "execution": {
     "iopub.execute_input": "2023-06-19T13:18:34.469972Z",
     "iopub.status.busy": "2023-06-19T13:18:34.469107Z",
     "iopub.status.idle": "2023-06-19T13:18:34.477756Z",
     "shell.execute_reply": "2023-06-19T13:18:34.476559Z"
    },
    "papermill": {
     "duration": 0.02858,
     "end_time": "2023-06-19T13:18:34.480158",
     "exception": false,
     "start_time": "2023-06-19T13:18:34.451578",
     "status": "completed"
    },
    "tags": []
   },
   "outputs": [
    {
     "data": {
      "text/plain": [
       "(2.823799306281821, 3.1727580707673595)"
      ]
     },
     "execution_count": 28,
     "metadata": {},
     "output_type": "execute_result"
    }
   ],
   "source": [
    "# The mean of the variable \"tip\" is statistically significant with 95% confidence between 2.823799306281821 and 3.1727580707673595 values. 5% margin of error.\n",
    "\n",
    "sms.DescrStatsW(df_2[\"tip\"]).tconfint_mean()"
   ]
  },
  {
   "cell_type": "markdown",
   "id": "e27b87e6",
   "metadata": {
    "papermill": {
     "duration": 0.015713,
     "end_time": "2023-06-19T13:18:34.511985",
     "exception": false,
     "start_time": "2023-06-19T13:18:34.496272",
     "status": "completed"
    },
    "tags": []
   },
   "source": [
    "# Confidence Interval Calculation for Numerical Variables in Titanic Data Set"
   ]
  },
  {
   "cell_type": "code",
   "execution_count": 29,
   "id": "3a6ab012",
   "metadata": {
    "execution": {
     "iopub.execute_input": "2023-06-19T13:18:34.546179Z",
     "iopub.status.busy": "2023-06-19T13:18:34.545439Z",
     "iopub.status.idle": "2023-06-19T13:18:35.264051Z",
     "shell.execute_reply": "2023-06-19T13:18:35.262659Z"
    },
    "papermill": {
     "duration": 0.739189,
     "end_time": "2023-06-19T13:18:35.267131",
     "exception": false,
     "start_time": "2023-06-19T13:18:34.527942",
     "status": "completed"
    },
    "tags": []
   },
   "outputs": [],
   "source": [
    "df_3 = sns.load_dataset(\"titanic\")"
   ]
  },
  {
   "cell_type": "code",
   "execution_count": 30,
   "id": "d58d95ec",
   "metadata": {
    "execution": {
     "iopub.execute_input": "2023-06-19T13:18:35.302535Z",
     "iopub.status.busy": "2023-06-19T13:18:35.302095Z",
     "iopub.status.idle": "2023-06-19T13:18:35.321214Z",
     "shell.execute_reply": "2023-06-19T13:18:35.320072Z"
    },
    "papermill": {
     "duration": 0.040145,
     "end_time": "2023-06-19T13:18:35.323908",
     "exception": false,
     "start_time": "2023-06-19T13:18:35.283763",
     "status": "completed"
    },
    "tags": []
   },
   "outputs": [
    {
     "data": {
      "text/html": [
       "<div>\n",
       "<style scoped>\n",
       "    .dataframe tbody tr th:only-of-type {\n",
       "        vertical-align: middle;\n",
       "    }\n",
       "\n",
       "    .dataframe tbody tr th {\n",
       "        vertical-align: top;\n",
       "    }\n",
       "\n",
       "    .dataframe thead th {\n",
       "        text-align: right;\n",
       "    }\n",
       "</style>\n",
       "<table border=\"1\" class=\"dataframe\">\n",
       "  <thead>\n",
       "    <tr style=\"text-align: right;\">\n",
       "      <th></th>\n",
       "      <th>survived</th>\n",
       "      <th>pclass</th>\n",
       "      <th>sex</th>\n",
       "      <th>age</th>\n",
       "      <th>sibsp</th>\n",
       "      <th>parch</th>\n",
       "      <th>fare</th>\n",
       "      <th>embarked</th>\n",
       "      <th>class</th>\n",
       "      <th>who</th>\n",
       "      <th>adult_male</th>\n",
       "      <th>deck</th>\n",
       "      <th>embark_town</th>\n",
       "      <th>alive</th>\n",
       "      <th>alone</th>\n",
       "    </tr>\n",
       "  </thead>\n",
       "  <tbody>\n",
       "    <tr>\n",
       "      <th>0</th>\n",
       "      <td>0</td>\n",
       "      <td>3</td>\n",
       "      <td>male</td>\n",
       "      <td>22.00000</td>\n",
       "      <td>1</td>\n",
       "      <td>0</td>\n",
       "      <td>7.25000</td>\n",
       "      <td>S</td>\n",
       "      <td>Third</td>\n",
       "      <td>man</td>\n",
       "      <td>True</td>\n",
       "      <td>NaN</td>\n",
       "      <td>Southampton</td>\n",
       "      <td>no</td>\n",
       "      <td>False</td>\n",
       "    </tr>\n",
       "    <tr>\n",
       "      <th>1</th>\n",
       "      <td>1</td>\n",
       "      <td>1</td>\n",
       "      <td>female</td>\n",
       "      <td>38.00000</td>\n",
       "      <td>1</td>\n",
       "      <td>0</td>\n",
       "      <td>71.28330</td>\n",
       "      <td>C</td>\n",
       "      <td>First</td>\n",
       "      <td>woman</td>\n",
       "      <td>False</td>\n",
       "      <td>C</td>\n",
       "      <td>Cherbourg</td>\n",
       "      <td>yes</td>\n",
       "      <td>False</td>\n",
       "    </tr>\n",
       "    <tr>\n",
       "      <th>2</th>\n",
       "      <td>1</td>\n",
       "      <td>3</td>\n",
       "      <td>female</td>\n",
       "      <td>26.00000</td>\n",
       "      <td>0</td>\n",
       "      <td>0</td>\n",
       "      <td>7.92500</td>\n",
       "      <td>S</td>\n",
       "      <td>Third</td>\n",
       "      <td>woman</td>\n",
       "      <td>False</td>\n",
       "      <td>NaN</td>\n",
       "      <td>Southampton</td>\n",
       "      <td>yes</td>\n",
       "      <td>True</td>\n",
       "    </tr>\n",
       "    <tr>\n",
       "      <th>3</th>\n",
       "      <td>1</td>\n",
       "      <td>1</td>\n",
       "      <td>female</td>\n",
       "      <td>35.00000</td>\n",
       "      <td>1</td>\n",
       "      <td>0</td>\n",
       "      <td>53.10000</td>\n",
       "      <td>S</td>\n",
       "      <td>First</td>\n",
       "      <td>woman</td>\n",
       "      <td>False</td>\n",
       "      <td>C</td>\n",
       "      <td>Southampton</td>\n",
       "      <td>yes</td>\n",
       "      <td>False</td>\n",
       "    </tr>\n",
       "    <tr>\n",
       "      <th>4</th>\n",
       "      <td>0</td>\n",
       "      <td>3</td>\n",
       "      <td>male</td>\n",
       "      <td>35.00000</td>\n",
       "      <td>0</td>\n",
       "      <td>0</td>\n",
       "      <td>8.05000</td>\n",
       "      <td>S</td>\n",
       "      <td>Third</td>\n",
       "      <td>man</td>\n",
       "      <td>True</td>\n",
       "      <td>NaN</td>\n",
       "      <td>Southampton</td>\n",
       "      <td>no</td>\n",
       "      <td>True</td>\n",
       "    </tr>\n",
       "  </tbody>\n",
       "</table>\n",
       "</div>"
      ],
      "text/plain": [
       "   survived  pclass     sex      age  sibsp  parch     fare embarked  class  \\\n",
       "0         0       3    male 22.00000      1      0  7.25000        S  Third   \n",
       "1         1       1  female 38.00000      1      0 71.28330        C  First   \n",
       "2         1       3  female 26.00000      0      0  7.92500        S  Third   \n",
       "3         1       1  female 35.00000      1      0 53.10000        S  First   \n",
       "4         0       3    male 35.00000      0      0  8.05000        S  Third   \n",
       "\n",
       "     who  adult_male deck  embark_town alive  alone  \n",
       "0    man        True  NaN  Southampton    no  False  \n",
       "1  woman       False    C    Cherbourg   yes  False  \n",
       "2  woman       False  NaN  Southampton   yes   True  \n",
       "3  woman       False    C  Southampton   yes  False  \n",
       "4    man        True  NaN  Southampton    no   True  "
      ]
     },
     "execution_count": 30,
     "metadata": {},
     "output_type": "execute_result"
    }
   ],
   "source": [
    "df_3.head()"
   ]
  },
  {
   "cell_type": "code",
   "execution_count": 31,
   "id": "7a47f80b",
   "metadata": {
    "execution": {
     "iopub.execute_input": "2023-06-19T13:18:35.361276Z",
     "iopub.status.busy": "2023-06-19T13:18:35.360167Z",
     "iopub.status.idle": "2023-06-19T13:18:35.388848Z",
     "shell.execute_reply": "2023-06-19T13:18:35.387981Z"
    },
    "papermill": {
     "duration": 0.049111,
     "end_time": "2023-06-19T13:18:35.391196",
     "exception": false,
     "start_time": "2023-06-19T13:18:35.342085",
     "status": "completed"
    },
    "tags": []
   },
   "outputs": [
    {
     "data": {
      "text/html": [
       "<div>\n",
       "<style scoped>\n",
       "    .dataframe tbody tr th:only-of-type {\n",
       "        vertical-align: middle;\n",
       "    }\n",
       "\n",
       "    .dataframe tbody tr th {\n",
       "        vertical-align: top;\n",
       "    }\n",
       "\n",
       "    .dataframe thead th {\n",
       "        text-align: right;\n",
       "    }\n",
       "</style>\n",
       "<table border=\"1\" class=\"dataframe\">\n",
       "  <thead>\n",
       "    <tr style=\"text-align: right;\">\n",
       "      <th></th>\n",
       "      <th>count</th>\n",
       "      <th>mean</th>\n",
       "      <th>std</th>\n",
       "      <th>min</th>\n",
       "      <th>25%</th>\n",
       "      <th>50%</th>\n",
       "      <th>75%</th>\n",
       "      <th>max</th>\n",
       "    </tr>\n",
       "  </thead>\n",
       "  <tbody>\n",
       "    <tr>\n",
       "      <th>survived</th>\n",
       "      <td>891.00000</td>\n",
       "      <td>0.38384</td>\n",
       "      <td>0.48659</td>\n",
       "      <td>0.00000</td>\n",
       "      <td>0.00000</td>\n",
       "      <td>0.00000</td>\n",
       "      <td>1.00000</td>\n",
       "      <td>1.00000</td>\n",
       "    </tr>\n",
       "    <tr>\n",
       "      <th>pclass</th>\n",
       "      <td>891.00000</td>\n",
       "      <td>2.30864</td>\n",
       "      <td>0.83607</td>\n",
       "      <td>1.00000</td>\n",
       "      <td>2.00000</td>\n",
       "      <td>3.00000</td>\n",
       "      <td>3.00000</td>\n",
       "      <td>3.00000</td>\n",
       "    </tr>\n",
       "    <tr>\n",
       "      <th>age</th>\n",
       "      <td>714.00000</td>\n",
       "      <td>29.69912</td>\n",
       "      <td>14.52650</td>\n",
       "      <td>0.42000</td>\n",
       "      <td>20.12500</td>\n",
       "      <td>28.00000</td>\n",
       "      <td>38.00000</td>\n",
       "      <td>80.00000</td>\n",
       "    </tr>\n",
       "    <tr>\n",
       "      <th>sibsp</th>\n",
       "      <td>891.00000</td>\n",
       "      <td>0.52301</td>\n",
       "      <td>1.10274</td>\n",
       "      <td>0.00000</td>\n",
       "      <td>0.00000</td>\n",
       "      <td>0.00000</td>\n",
       "      <td>1.00000</td>\n",
       "      <td>8.00000</td>\n",
       "    </tr>\n",
       "    <tr>\n",
       "      <th>parch</th>\n",
       "      <td>891.00000</td>\n",
       "      <td>0.38159</td>\n",
       "      <td>0.80606</td>\n",
       "      <td>0.00000</td>\n",
       "      <td>0.00000</td>\n",
       "      <td>0.00000</td>\n",
       "      <td>0.00000</td>\n",
       "      <td>6.00000</td>\n",
       "    </tr>\n",
       "    <tr>\n",
       "      <th>fare</th>\n",
       "      <td>891.00000</td>\n",
       "      <td>32.20421</td>\n",
       "      <td>49.69343</td>\n",
       "      <td>0.00000</td>\n",
       "      <td>7.91040</td>\n",
       "      <td>14.45420</td>\n",
       "      <td>31.00000</td>\n",
       "      <td>512.32920</td>\n",
       "    </tr>\n",
       "  </tbody>\n",
       "</table>\n",
       "</div>"
      ],
      "text/plain": [
       "             count     mean      std     min      25%      50%      75%  \\\n",
       "survived 891.00000  0.38384  0.48659 0.00000  0.00000  0.00000  1.00000   \n",
       "pclass   891.00000  2.30864  0.83607 1.00000  2.00000  3.00000  3.00000   \n",
       "age      714.00000 29.69912 14.52650 0.42000 20.12500 28.00000 38.00000   \n",
       "sibsp    891.00000  0.52301  1.10274 0.00000  0.00000  0.00000  1.00000   \n",
       "parch    891.00000  0.38159  0.80606 0.00000  0.00000  0.00000  0.00000   \n",
       "fare     891.00000 32.20421 49.69343 0.00000  7.91040 14.45420 31.00000   \n",
       "\n",
       "               max  \n",
       "survived   1.00000  \n",
       "pclass     3.00000  \n",
       "age       80.00000  \n",
       "sibsp      8.00000  \n",
       "parch      6.00000  \n",
       "fare     512.32920  "
      ]
     },
     "execution_count": 31,
     "metadata": {},
     "output_type": "execute_result"
    }
   ],
   "source": [
    "df_3.describe().T"
   ]
  },
  {
   "cell_type": "code",
   "execution_count": 32,
   "id": "e2d2b83c",
   "metadata": {
    "execution": {
     "iopub.execute_input": "2023-06-19T13:18:35.426664Z",
     "iopub.status.busy": "2023-06-19T13:18:35.426232Z",
     "iopub.status.idle": "2023-06-19T13:18:35.433812Z",
     "shell.execute_reply": "2023-06-19T13:18:35.432963Z"
    },
    "papermill": {
     "duration": 0.028,
     "end_time": "2023-06-19T13:18:35.436004",
     "exception": false,
     "start_time": "2023-06-19T13:18:35.408004",
     "status": "completed"
    },
    "tags": []
   },
   "outputs": [
    {
     "data": {
      "text/plain": [
       "(28.631790041821507, 30.766445252296133)"
      ]
     },
     "execution_count": 32,
     "metadata": {},
     "output_type": "execute_result"
    }
   ],
   "source": [
    "# The mean of the variable age is statistically between 28.631790041821507 and 30.766445252296133 with 95% confidence. 5% margin of error.\n",
    "\n",
    "sms.DescrStatsW(df_3[\"age\"].dropna()).tconfint_mean()"
   ]
  },
  {
   "cell_type": "code",
   "execution_count": 33,
   "id": "1b666f33",
   "metadata": {
    "execution": {
     "iopub.execute_input": "2023-06-19T13:18:35.472106Z",
     "iopub.status.busy": "2023-06-19T13:18:35.471360Z",
     "iopub.status.idle": "2023-06-19T13:18:35.478751Z",
     "shell.execute_reply": "2023-06-19T13:18:35.477777Z"
    },
    "papermill": {
     "duration": 0.027887,
     "end_time": "2023-06-19T13:18:35.480892",
     "exception": false,
     "start_time": "2023-06-19T13:18:35.453005",
     "status": "completed"
    },
    "tags": []
   },
   "outputs": [
    {
     "data": {
      "text/plain": [
       "(28.936831234567325, 35.471584702581936)"
      ]
     },
     "execution_count": 33,
     "metadata": {},
     "output_type": "execute_result"
    }
   ],
   "source": [
    "# The mean of the mouse variable is statistically significant with 95% confidence between 28.936831234567325 and 35.471584702581936 values. 5% margin of error.\n",
    "\n",
    "sms.DescrStatsW(df_3[\"fare\"].dropna()).tconfint_mean()"
   ]
  },
  {
   "cell_type": "markdown",
   "id": "650eaeab",
   "metadata": {
    "papermill": {
     "duration": 0.01715,
     "end_time": "2023-06-19T13:18:35.515592",
     "exception": false,
     "start_time": "2023-06-19T13:18:35.498442",
     "status": "completed"
    },
    "tags": []
   },
   "source": [
    "# Correlation\n",
    "\n",
    "- It is a statistical method that provides information about the relationship between variables, the direction and severity of this relationship.\n",
    "- It is between 1 and -1. 0 means no correlation.\n",
    "- Positive Perfect Positive Correlation as you move towards 1, Perfect Negative Correlation as you move towards -1 it will be revealed.\n",
    "- Positive Correlation: It means that when the value of one variable increases, the value of the other variable will also increase.\n",
    "- Negative Correlation: It means that while the value of one variable increases, the value of the other variable decreases."
   ]
  },
  {
   "cell_type": "markdown",
   "id": "2a96e34a",
   "metadata": {
    "papermill": {
     "duration": 0.016621,
     "end_time": "2023-06-19T13:18:35.550512",
     "exception": false,
     "start_time": "2023-06-19T13:18:35.533891",
     "status": "completed"
    },
    "tags": []
   },
   "source": [
    "- **Tipping data set:**\n",
    "- **total_bill:** total price of the meal (including tip and tax)\n",
    "- **type:** tip\n",
    "- **sex:** gender of the payer (0=male, 1=female)\n",
    "- **smoker:** does anyone in the group smoke? (0=No, 1=Yes)\n",
    "- **day:** day (3=Thur, 4=Fri, 5=Sat, 6=Sun)\n",
    "- **time:** when (0=Day, 1=Night)\n",
    "- **you:** how many people in the group?"
   ]
  },
  {
   "cell_type": "code",
   "execution_count": 34,
   "id": "ca87e999",
   "metadata": {
    "execution": {
     "iopub.execute_input": "2023-06-19T13:18:35.586442Z",
     "iopub.status.busy": "2023-06-19T13:18:35.585744Z",
     "iopub.status.idle": "2023-06-19T13:18:35.597098Z",
     "shell.execute_reply": "2023-06-19T13:18:35.595832Z"
    },
    "papermill": {
     "duration": 0.032282,
     "end_time": "2023-06-19T13:18:35.599639",
     "exception": false,
     "start_time": "2023-06-19T13:18:35.567357",
     "status": "completed"
    },
    "tags": []
   },
   "outputs": [],
   "source": [
    "df_4 = sns.load_dataset('tips')"
   ]
  },
  {
   "cell_type": "code",
   "execution_count": 35,
   "id": "488f098b",
   "metadata": {
    "execution": {
     "iopub.execute_input": "2023-06-19T13:18:35.635555Z",
     "iopub.status.busy": "2023-06-19T13:18:35.635073Z",
     "iopub.status.idle": "2023-06-19T13:18:35.648807Z",
     "shell.execute_reply": "2023-06-19T13:18:35.648001Z"
    },
    "papermill": {
     "duration": 0.03419,
     "end_time": "2023-06-19T13:18:35.650921",
     "exception": false,
     "start_time": "2023-06-19T13:18:35.616731",
     "status": "completed"
    },
    "tags": []
   },
   "outputs": [
    {
     "data": {
      "text/html": [
       "<div>\n",
       "<style scoped>\n",
       "    .dataframe tbody tr th:only-of-type {\n",
       "        vertical-align: middle;\n",
       "    }\n",
       "\n",
       "    .dataframe tbody tr th {\n",
       "        vertical-align: top;\n",
       "    }\n",
       "\n",
       "    .dataframe thead th {\n",
       "        text-align: right;\n",
       "    }\n",
       "</style>\n",
       "<table border=\"1\" class=\"dataframe\">\n",
       "  <thead>\n",
       "    <tr style=\"text-align: right;\">\n",
       "      <th></th>\n",
       "      <th>total_bill</th>\n",
       "      <th>tip</th>\n",
       "      <th>sex</th>\n",
       "      <th>smoker</th>\n",
       "      <th>day</th>\n",
       "      <th>time</th>\n",
       "      <th>size</th>\n",
       "    </tr>\n",
       "  </thead>\n",
       "  <tbody>\n",
       "    <tr>\n",
       "      <th>0</th>\n",
       "      <td>16.99000</td>\n",
       "      <td>1.01000</td>\n",
       "      <td>Female</td>\n",
       "      <td>No</td>\n",
       "      <td>Sun</td>\n",
       "      <td>Dinner</td>\n",
       "      <td>2</td>\n",
       "    </tr>\n",
       "    <tr>\n",
       "      <th>1</th>\n",
       "      <td>10.34000</td>\n",
       "      <td>1.66000</td>\n",
       "      <td>Male</td>\n",
       "      <td>No</td>\n",
       "      <td>Sun</td>\n",
       "      <td>Dinner</td>\n",
       "      <td>3</td>\n",
       "    </tr>\n",
       "    <tr>\n",
       "      <th>2</th>\n",
       "      <td>21.01000</td>\n",
       "      <td>3.50000</td>\n",
       "      <td>Male</td>\n",
       "      <td>No</td>\n",
       "      <td>Sun</td>\n",
       "      <td>Dinner</td>\n",
       "      <td>3</td>\n",
       "    </tr>\n",
       "    <tr>\n",
       "      <th>3</th>\n",
       "      <td>23.68000</td>\n",
       "      <td>3.31000</td>\n",
       "      <td>Male</td>\n",
       "      <td>No</td>\n",
       "      <td>Sun</td>\n",
       "      <td>Dinner</td>\n",
       "      <td>2</td>\n",
       "    </tr>\n",
       "    <tr>\n",
       "      <th>4</th>\n",
       "      <td>24.59000</td>\n",
       "      <td>3.61000</td>\n",
       "      <td>Female</td>\n",
       "      <td>No</td>\n",
       "      <td>Sun</td>\n",
       "      <td>Dinner</td>\n",
       "      <td>4</td>\n",
       "    </tr>\n",
       "  </tbody>\n",
       "</table>\n",
       "</div>"
      ],
      "text/plain": [
       "   total_bill     tip     sex smoker  day    time  size\n",
       "0    16.99000 1.01000  Female     No  Sun  Dinner     2\n",
       "1    10.34000 1.66000    Male     No  Sun  Dinner     3\n",
       "2    21.01000 3.50000    Male     No  Sun  Dinner     3\n",
       "3    23.68000 3.31000    Male     No  Sun  Dinner     2\n",
       "4    24.59000 3.61000  Female     No  Sun  Dinner     4"
      ]
     },
     "execution_count": 35,
     "metadata": {},
     "output_type": "execute_result"
    }
   ],
   "source": [
    "df_4.head()"
   ]
  },
  {
   "cell_type": "code",
   "execution_count": 36,
   "id": "c1163672",
   "metadata": {
    "execution": {
     "iopub.execute_input": "2023-06-19T13:18:35.687585Z",
     "iopub.status.busy": "2023-06-19T13:18:35.686889Z",
     "iopub.status.idle": "2023-06-19T13:18:35.692605Z",
     "shell.execute_reply": "2023-06-19T13:18:35.691493Z"
    },
    "papermill": {
     "duration": 0.027101,
     "end_time": "2023-06-19T13:18:35.695312",
     "exception": false,
     "start_time": "2023-06-19T13:18:35.668211",
     "status": "completed"
    },
    "tags": []
   },
   "outputs": [],
   "source": [
    "df_4[\"total_bill\"] = df_4[\"total_bill\"] - df_4[\"tip\"]"
   ]
  },
  {
   "cell_type": "code",
   "execution_count": 37,
   "id": "5c5add77",
   "metadata": {
    "execution": {
     "iopub.execute_input": "2023-06-19T13:18:35.731819Z",
     "iopub.status.busy": "2023-06-19T13:18:35.731383Z",
     "iopub.status.idle": "2023-06-19T13:18:36.031550Z",
     "shell.execute_reply": "2023-06-19T13:18:36.030661Z"
    },
    "papermill": {
     "duration": 0.32175,
     "end_time": "2023-06-19T13:18:36.034447",
     "exception": false,
     "start_time": "2023-06-19T13:18:35.712697",
     "status": "completed"
    },
    "tags": []
   },
   "outputs": [
    {
     "data": {
      "image/png": "[encoded data removed]",
      "text/plain": [
       "<Figure size 640x480 with 1 Axes>"
      ]
     },
     "metadata": {},
     "output_type": "display_data"
    }
   ],
   "source": [
    "# Is there a correlation between the total bill and the tip paid?\n",
    "\n",
    "df_4.plot.scatter(\"tip\", \"total_bill\")\n",
    "plt.show(block=True)"
   ]
  },
  {
   "cell_type": "code",
   "execution_count": 38,
   "id": "03db9176",
   "metadata": {
    "execution": {
     "iopub.execute_input": "2023-06-19T13:18:36.072461Z",
     "iopub.status.busy": "2023-06-19T13:18:36.071794Z",
     "iopub.status.idle": "2023-06-19T13:18:36.079870Z",
     "shell.execute_reply": "2023-06-19T13:18:36.078819Z"
    },
    "papermill": {
     "duration": 0.029828,
     "end_time": "2023-06-19T13:18:36.082144",
     "exception": false,
     "start_time": "2023-06-19T13:18:36.052316",
     "status": "completed"
    },
    "tags": []
   },
   "outputs": [
    {
     "data": {
      "text/plain": [
       "0.5766634471096374"
      ]
     },
     "execution_count": 38,
     "metadata": {},
     "output_type": "execute_result"
    }
   ],
   "source": [
    "df_4[\"tip\"].corr(df_4[\"total_bill\"])"
   ]
  },
  {
   "cell_type": "code",
   "execution_count": 39,
   "id": "f83d724a",
   "metadata": {
    "execution": {
     "iopub.execute_input": "2023-06-19T13:18:36.120108Z",
     "iopub.status.busy": "2023-06-19T13:18:36.119482Z",
     "iopub.status.idle": "2023-06-19T13:18:36.123910Z",
     "shell.execute_reply": "2023-06-19T13:18:36.123153Z"
    },
    "papermill": {
     "duration": 0.026282,
     "end_time": "2023-06-19T13:18:36.126076",
     "exception": false,
     "start_time": "2023-06-19T13:18:36.099794",
     "status": "completed"
    },
    "tags": []
   },
   "outputs": [],
   "source": [
    "# There is a positive correlation between total bill and tips paid."
   ]
  }
 ],
 "metadata": {
  "kernelspec": {
   "display_name": "Python 3",
   "language": "python",
   "name": "python3"
  },
  "language_info": {
   "codemirror_mode": {
    "name": "ipython",
    "version": 3
   },
   "file_extension": ".py",
   "mimetype": "text/x-python",
   "name": "python",
   "nbconvert_exporter": "python",
   "pygments_lexer": "ipython3",
   "version": "3.10.10"
  },
  "papermill": {
   "default_parameters": {},
   "duration": 20.005108,
   "end_time": "2023-06-19T13:18:37.166790",
   "environment_variables": {},
   "exception": null,
   "input_path": "__notebook__.ipynb",
   "output_path": "__notebook__.ipynb",
   "parameters": {},
   "start_time": "2023-06-19T13:18:17.161682",
   "version": "2.4.0"
  }
 },
 "nbformat": 4,
 "nbformat_minor": 5
}
